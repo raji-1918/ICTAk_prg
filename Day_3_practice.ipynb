{
  "nbformat": 4,
  "nbformat_minor": 0,
  "metadata": {
    "colab": {
      "provenance": []
    },
    "kernelspec": {
      "name": "python3",
      "display_name": "Python 3"
    },
    "language_info": {
      "name": "python"
    }
  },
  "cells": [
    {
      "cell_type": "code",
      "execution_count": 1,
      "metadata": {
        "colab": {
          "base_uri": "https://localhost:8080/"
        },
        "id": "DqF0itNjPSNW",
        "outputId": "5ce21373-44c9-445b-eb6c-bb59db88326a"
      },
      "outputs": [
        {
          "output_type": "stream",
          "name": "stdout",
          "text": [
            "Runner-up score is: 76\n"
          ]
        }
      ],
      "source": [
        "# Create a list of scores\n",
        "\n",
        "scores = [45, 67, 89, 34, 89, 76]\n",
        "\n",
        "# Remove duplicates using set, then sort in descending order\n",
        "\n",
        "unique_scores = list(set(scores))\n",
        "unique_scores.sort(reverse=True)\n",
        "\n",
        "# The second highest (runner-up) score\n",
        "\n",
        "runner_up = unique_scores[1]\n",
        "print(\"Runner-up score is:\", runner_up)"
      ]
    },
    {
      "cell_type": "code",
      "source": [
        "D = {\n",
        "    'John': [25, 32, 43],\n",
        "    'Peter': [87, 55, 96],\n",
        "    'Ram': [58, 55, 43],\n",
        "    'Meena': [63, 79, 85]\n",
        "}\n",
        "\n",
        "name = input(\"Enter a name: \")\n",
        "\n",
        "if name in D:\n",
        "    D[name] = [88, 77, 99]\n",
        "    print(\"Updated dictionary:\", D)\n",
        "else:\n",
        "    print(\"Name not found.\")"
      ],
      "metadata": {
        "colab": {
          "base_uri": "https://localhost:8080/"
        },
        "id": "jzQfdXdPPjKW",
        "outputId": "84b0877e-875b-4fbc-8b65-2d076d478458"
      },
      "execution_count": 5,
      "outputs": [
        {
          "output_type": "stream",
          "name": "stdout",
          "text": [
            "Enter a name: Ram\n",
            "Updated dictionary: {'John': [25, 32, 43], 'Peter': [87, 55, 96], 'Ram': [88, 77, 99], 'Meena': [63, 79, 85]}\n"
          ]
        }
      ]
    },
    {
      "cell_type": "code",
      "source": [
        "#Ticket Price Calculator:\n",
        "\n",
        "age = int(input(\"Enter your age: \"))\n",
        "gender = input(\"Enter your gender (male/female): \").lower()\n",
        "\n",
        "# Determine base ticket price\n",
        "if age < 5:\n",
        "    price = 0\n",
        "elif 5 <= age <= 12:\n",
        "    price = 10\n",
        "elif age > 60:\n",
        "    price = 0\n",
        "else:\n",
        "    price = 50\n",
        "\n",
        "# Apply 50% discount for females\n",
        "if gender == \"female\":\n",
        "    price *= 0.5\n",
        "\n",
        "print(\"Ticket price: Rs.\", price)"
      ],
      "metadata": {
        "colab": {
          "base_uri": "https://localhost:8080/"
        },
        "id": "YUiyA3MbPjTj",
        "outputId": "76416728-5a99-4ce1-a2a3-1b2d28529da8"
      },
      "execution_count": 6,
      "outputs": [
        {
          "output_type": "stream",
          "name": "stdout",
          "text": [
            "Enter your age: 18\n",
            "Enter your gender (male/female): male\n",
            "Ticket price: Rs. 50\n"
          ]
        }
      ]
    },
    {
      "cell_type": "code",
      "source": [],
      "metadata": {
        "id": "y95FOZK6P7bb"
      },
      "execution_count": null,
      "outputs": []
    }
  ]
}