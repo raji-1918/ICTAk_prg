{
  "nbformat": 4,
  "nbformat_minor": 0,
  "metadata": {
    "colab": {
      "provenance": []
    },
    "kernelspec": {
      "name": "python3",
      "display_name": "Python 3"
    },
    "language_info": {
      "name": "python"
    }
  },
  "cells": [
    {
      "cell_type": "code",
      "execution_count": 1,
      "metadata": {
        "colab": {
          "base_uri": "https://localhost:8080/"
        },
        "id": "b_gwanbkNlN_",
        "outputId": "054be2f2-474b-453c-d0e1-f929ad42f8fd"
      },
      "outputs": [
        {
          "output_type": "stream",
          "name": "stdout",
          "text": [
            "Hello\n"
          ]
        }
      ],
      "source": [
        "# Extract \"Hello\" from \"Hello, World!\"\n",
        "\n",
        "text = \"Hello, World!\"\n",
        "print(text[0:5])\n"
      ]
    },
    {
      "cell_type": "code",
      "source": [
        "# Extract \"is\" from \"Python is fun\"\n",
        "\n",
        "text = \"Python is fun\"\n",
        "print(text[7:9])"
      ],
      "metadata": {
        "colab": {
          "base_uri": "https://localhost:8080/"
        },
        "id": "P_CFRg4ENtsP",
        "outputId": "b9cb6867-3aaa-424c-bdd4-2db12ddff6f6"
      },
      "execution_count": 2,
      "outputs": [
        {
          "output_type": "stream",
          "name": "stdout",
          "text": [
            "is\n"
          ]
        }
      ]
    },
    {
      "cell_type": "code",
      "source": [
        "# Extract \"gram\" from \"Programming\" using indices\n",
        "\n",
        "text = \"Programming\"\n",
        "print(text[3:7])"
      ],
      "metadata": {
        "colab": {
          "base_uri": "https://localhost:8080/"
        },
        "id": "Rc4t0hnDN80I",
        "outputId": "7f0e1843-790e-49eb-f1c4-317d48046bbd"
      },
      "execution_count": 3,
      "outputs": [
        {
          "output_type": "stream",
          "name": "stdout",
          "text": [
            "gram\n"
          ]
        }
      ]
    },
    {
      "cell_type": "code",
      "source": [
        "# Print only characters at even indices from \"abcdefgh\"\n",
        "\n",
        "text = \"abcdefgh\"\n",
        "print(text[::2])"
      ],
      "metadata": {
        "colab": {
          "base_uri": "https://localhost:8080/"
        },
        "id": "-Cw5BMIFN9CI",
        "outputId": "f55ab588-c74c-4ed1-bcc2-b7dbb08236db"
      },
      "execution_count": 4,
      "outputs": [
        {
          "output_type": "stream",
          "name": "stdout",
          "text": [
            "aceg\n"
          ]
        }
      ]
    },
    {
      "cell_type": "code",
      "source": [
        "# Use negative indices to extract \"efg\" from \"abcdefg\"\n",
        "\n",
        "text = \"abcdefg\"\n",
        "print(text[-3:])\n",
        "\n"
      ],
      "metadata": {
        "colab": {
          "base_uri": "https://localhost:8080/"
        },
        "id": "cOxZ2ld9OHVa",
        "outputId": "d73435ed-1ead-4ced-aef5-8feddf1129c7"
      },
      "execution_count": 5,
      "outputs": [
        {
          "output_type": "stream",
          "name": "stdout",
          "text": [
            "efg\n"
          ]
        }
      ]
    },
    {
      "cell_type": "code",
      "source": [
        "\n",
        "\n",
        "# Use negative indices to extract the last three characters from \"Data Science\"\n",
        "\n",
        "text = \"Data Science\"\n",
        "print(text[-3:])\n"
      ],
      "metadata": {
        "colab": {
          "base_uri": "https://localhost:8080/"
        },
        "id": "LKi8zSTBOHfV",
        "outputId": "b7c66fbf-8d1d-4acc-a778-a309c63518fc"
      },
      "execution_count": 6,
      "outputs": [
        {
          "output_type": "stream",
          "name": "stdout",
          "text": [
            "nce\n"
          ]
        }
      ]
    },
    {
      "cell_type": "code",
      "source": [
        "# Use slicing with a step to print every second character from \"abcdefghij\"\n",
        "\n",
        "text = \"abcdefghij\"\n",
        "print(text[::2])"
      ],
      "metadata": {
        "colab": {
          "base_uri": "https://localhost:8080/"
        },
        "id": "_UhmgAlDO1aT",
        "outputId": "e4f5613c-d148-46dd-8c14-8d45da1037d0"
      },
      "execution_count": 7,
      "outputs": [
        {
          "output_type": "stream",
          "name": "stdout",
          "text": [
            "acegi\n"
          ]
        }
      ]
    },
    {
      "cell_type": "code",
      "source": [
        "# Use slicing with a step to print the odd digits from \"1234567890\"\n",
        "\n",
        "text = \"1234567890\"\n",
        "print(text[::2])"
      ],
      "metadata": {
        "colab": {
          "base_uri": "https://localhost:8080/"
        },
        "id": "HqNWUZXGO6bL",
        "outputId": "e836db6e-21dd-45a1-f2ac-6b0cb7e0df44"
      },
      "execution_count": 8,
      "outputs": [
        {
          "output_type": "stream",
          "name": "stdout",
          "text": [
            "13579\n"
          ]
        }
      ]
    },
    {
      "cell_type": "code",
      "source": [
        "# Use slicing to print \"Hello\" in reverse order\n",
        "\n",
        "text = \"Hello\"\n",
        "print(text[::-1])\n"
      ],
      "metadata": {
        "colab": {
          "base_uri": "https://localhost:8080/"
        },
        "id": "UUpbsJlAO_MY",
        "outputId": "7352801b-1e38-48e6-ccac-00cff1c4a234"
      },
      "execution_count": 9,
      "outputs": [
        {
          "output_type": "stream",
          "name": "stdout",
          "text": [
            "olleH\n"
          ]
        }
      ]
    },
    {
      "cell_type": "code",
      "source": [
        "# Extract \"acegik\" from \"abcdefghijk\" using slicing\n",
        "\n",
        "text = \"abcdefghijk\"\n",
        "print(text[::2])"
      ],
      "metadata": {
        "colab": {
          "base_uri": "https://localhost:8080/"
        },
        "id": "6zBkdF98O_ZT",
        "outputId": "709bb5b1-f02c-4159-dee5-ea78a2fea56c"
      },
      "execution_count": 11,
      "outputs": [
        {
          "output_type": "stream",
          "name": "stdout",
          "text": [
            "acegik\n"
          ]
        }
      ]
    }
  ]
}