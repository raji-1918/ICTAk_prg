{
  "nbformat": 4,
  "nbformat_minor": 0,
  "metadata": {
    "colab": {
      "provenance": [],
      "authorship_tag": "ABX9TyOjC+tfZwz8q/FxbNXY801u"
    },
    "kernelspec": {
      "name": "python3",
      "display_name": "Python 3"
    },
    "language_info": {
      "name": "python"
    }
  },
  "cells": [
    {
      "cell_type": "code",
      "execution_count": 5,
      "metadata": {
        "colab": {
          "base_uri": "https://localhost:8080/"
        },
        "id": "DYR7-nedl79X",
        "outputId": "f154043c-4585-46bf-f96c-b1183a676c64"
      },
      "outputs": [
        {
          "output_type": "stream",
          "name": "stdout",
          "text": [
            "Enter a number: 00000\n",
            "The number is Zero.\n"
          ]
        }
      ],
      "source": [
        "#write a program to check whether number is positive, negative or zero\n",
        "\n",
        "num = float(input(\"Enter a number: \"))\n",
        "if num > 0:\n",
        "    print(\"The number is Positive.\")\n",
        "elif num < 0:\n",
        "    print(\"The number is Negative.\")\n",
        "else:\n",
        "    print(\"The number is Zero.\")"
      ]
    },
    {
      "cell_type": "code",
      "source": [
        "#apply discounts based on shopping total price\n",
        "#eg : greater than 5000 , give 25% off\n",
        "#greater than 2000 give 10%\n",
        "#otherwise no discount\n",
        "\n",
        "total_price = float(input(\"Enter the total shopping amount: \"))\n",
        "\n",
        "if total_price > 5000:\n",
        "    discount = 0.25 * total_price\n",
        "elif total_price > 2000:\n",
        "    discount = 0.10 * total_price\n",
        "else:\n",
        "    discount = 0.0\n",
        "final_price = total_price-discount\n",
        "print(f\"Original Price: {total_price}\")\n",
        "print(f\"Discount Applied: {discount}\")\n",
        "print(f\"Final Price to Pay: {final_price}\")"
      ],
      "metadata": {
        "colab": {
          "base_uri": "https://localhost:8080/"
        },
        "id": "nhtb5Alim5DM",
        "outputId": "04c58a19-1dab-47f1-d245-ef1904f3dee4"
      },
      "execution_count": 10,
      "outputs": [
        {
          "output_type": "stream",
          "name": "stdout",
          "text": [
            "Enter the total shopping amount: 7088\n",
            "Original Price: 7088.0\n",
            "Discount Applied: 1772.0\n",
            "Final Price to Pay: 5316.0\n"
          ]
        }
      ]
    },
    {
      "cell_type": "code",
      "source": [
        "#Movie Ticket Pricing System Problem:Create a program that calculates the ticket price based on the following conditions:\n",
        "#Age < 5 → Free ticket\n",
        "#Age 5–12 → ₹150\n",
        "#Age 13–59 → ₹250\n",
        "#Age 60+ → ₹120 (senior citizen discount)\n",
        "#Also, if it’s Friday, everyone gets a 20% discount.\n",
        "\n",
        "age = int(input(\"Enter your age: \"))\n",
        "day = input(\"Enter the day (eg: mon,tue,etc ) :\" )\n",
        "\n",
        "if age < 5:\n",
        "    price = 0\n",
        "elif age <= 12:\n",
        "    price = 150\n",
        "elif age <= 59:\n",
        "    price = 250\n",
        "else:\n",
        "    price = 120\n",
        "\n",
        "if day == \"friday\" and price > 0:\n",
        "    price = price * 0.8\n",
        "\n",
        "print(\"Your ticket price is: ₹\", price)"
      ],
      "metadata": {
        "colab": {
          "base_uri": "https://localhost:8080/"
        },
        "id": "_i2zFzcAo2SX",
        "outputId": "007a4f42-1b66-4083-c2ad-3d3b81b56b1f"
      },
      "execution_count": 26,
      "outputs": [
        {
          "output_type": "stream",
          "name": "stdout",
          "text": [
            "Enter your age: 63\n",
            "Enter the day (eg: mon,tue,etc ) :mon\n",
            "Your ticket price is: ₹ 120\n"
          ]
        }
      ]
    },
    {
      "cell_type": "code",
      "source": [],
      "metadata": {
        "id": "5KAENG7BqHq-"
      },
      "execution_count": null,
      "outputs": []
    }
  ]
}