{
  "nbformat": 4,
  "nbformat_minor": 0,
  "metadata": {
    "colab": {
      "provenance": []
    },
    "kernelspec": {
      "name": "python3",
      "display_name": "Python 3"
    },
    "language_info": {
      "name": "python"
    }
  },
  "cells": [
    {
      "cell_type": "code",
      "execution_count": 1,
      "metadata": {
        "colab": {
          "base_uri": "https://localhost:8080/"
        },
        "id": "e_LKWE-1X7FC",
        "outputId": "2ff8fd7a-6ac6-47b1-f21c-3a8777d066d2"
      },
      "outputs": [
        {
          "output_type": "stream",
          "name": "stdout",
          "text": [
            "1) Sum of all elements: 150\n"
          ]
        }
      ],
      "source": [
        "# 1. Program to find sum of all elements in a list of integers\n",
        "\n",
        "numbers = [10, 20, 30, 40, 50]\n",
        "total = sum(numbers)\n",
        "print(\"1) Sum of all elements:\", total)\n"
      ]
    },
    {
      "cell_type": "code",
      "source": [
        "# 2. Input a sentence as a string\n",
        "\n",
        "sentence = input(\"\\n2) Enter a sentence: \")\n",
        "\n",
        "# (a) Print its length\n",
        "\n",
        "print(\"Length of the string:\", len(sentence))\n",
        "\n",
        "# (b) Print the first half of string\n",
        "\n",
        "half_length = len(sentence) // 2\n",
        "print(\"First half of string:\", sentence[:half_length])\n"
      ],
      "metadata": {
        "colab": {
          "base_uri": "https://localhost:8080/"
        },
        "id": "FQjx_kGhYNks",
        "outputId": "04d05607-1ab2-4007-bb33-7a9189167c9b"
      },
      "execution_count": 2,
      "outputs": [
        {
          "output_type": "stream",
          "name": "stdout",
          "text": [
            "\n",
            "2) Enter a sentence: RAJALEKSHMI\n",
            "Length of the string: 11\n",
            "First half of string: RAJAL\n"
          ]
        }
      ]
    },
    {
      "cell_type": "code",
      "source": [
        "# 3. Tuple modification\n",
        "\n",
        "t1 = (78, 45, 32, 19, 82, 77, 40, 39)\n",
        "print(\"\\n3) Original tuple:\", tupleA)\n",
        "\n",
        "# Tuples are immutable, so convert to list → modify → convert back\n",
        "\n",
        "temp_list = list(t1)\n",
        "temp_list[2] = 100\n",
        "t1 = tuple(temp_list)\n",
        "\n",
        "print(\"Modified tuple:\", t1)"
      ],
      "metadata": {
        "colab": {
          "base_uri": "https://localhost:8080/"
        },
        "id": "stmxhIYFYuyr",
        "outputId": "861e3300-57ae-42f2-86ec-4843926f58f5"
      },
      "execution_count": 4,
      "outputs": [
        {
          "output_type": "stream",
          "name": "stdout",
          "text": [
            "\n",
            "3) Original tuple: (78, 45, 100, 19, 82, 77, 40, 39)\n",
            "Modified tuple: (78, 45, 100, 19, 82, 77, 40, 39)\n"
          ]
        }
      ]
    },
    {
      "cell_type": "code",
      "source": [],
      "metadata": {
        "id": "Zvl3Oh-3ZEBa"
      },
      "execution_count": null,
      "outputs": []
    },
    {
      "cell_type": "code",
      "source": [
        "# 4. List operations\n",
        "\n",
        "\n",
        "l1 = [19, 32, 10, 55, 31, 32, 94, 29, 10, 65, 77, 40, 40]\n",
        "print(\"\\n4) Original list:\", l1)\n"
      ],
      "metadata": {
        "colab": {
          "base_uri": "https://localhost:8080/"
        },
        "id": "RMM7UtnQZENS",
        "outputId": "6ebeda81-53b8-468d-ab03-426edf0acbbd"
      },
      "execution_count": 11,
      "outputs": [
        {
          "output_type": "stream",
          "name": "stdout",
          "text": [
            "\n",
            "4) Original list: [19, 32, 10, 55, 31, 32, 94, 29, 10, 65, 77, 40, 40]\n"
          ]
        }
      ]
    },
    {
      "cell_type": "code",
      "source": [
        "# (a) Delete the first occurrence of 32\n",
        "l1 = [19, 32, 10, 55, 31, 32, 94, 29, 10, 65, 77, 40, 40]\n",
        "l1.remove(32)\n",
        "print(\" Original list:\", l1)\n"
      ],
      "metadata": {
        "colab": {
          "base_uri": "https://localhost:8080/"
        },
        "id": "K7zHt5rcZ0pE",
        "outputId": "7ed772d7-c14b-4141-ca28-11f548fe59c0"
      },
      "execution_count": 13,
      "outputs": [
        {
          "output_type": "stream",
          "name": "stdout",
          "text": [
            " Original list: [19, 10, 55, 31, 32, 94, 29, 10, 65, 77, 40, 40]\n"
          ]
        }
      ]
    },
    {
      "cell_type": "code",
      "source": [
        "# (b) Delete all occurrences of 40\n",
        "\n",
        "l1 = [19, 32, 10, 55, 31, 32, 94, 29, 10, 65, 77, 40, 40]\n",
        "l1 = [x for x in l1 if x != 40]\n",
        "\n",
        "# (c) Delete the value at index=5\n",
        "del l1[5]\n",
        "\n",
        "# (d) Modify the value at index=9 as 300\n",
        "l1[9] = 300\n",
        "\n",
        "# (e) Add 200 at index=2\n",
        "l1.insert(2, 200)\n",
        "\n",
        "# (f) Print the final list with length, max value, and sum\n",
        "print(\"Final list:\", l1)\n",
        "print(\"Length:\", len(l1))\n",
        "print(\"Maximum value:\", max(l1))\n",
        "print(\"Sum of all elements:\", sum(l1))\n",
        "\n"
      ],
      "metadata": {
        "colab": {
          "base_uri": "https://localhost:8080/"
        },
        "id": "O1vgesrIaLtz",
        "outputId": "c1bbec1f-26cf-4adb-8df0-9aa69f38d921"
      },
      "execution_count": 14,
      "outputs": [
        {
          "output_type": "stream",
          "name": "stdout",
          "text": [
            "Final list: [19, 32, 200, 10, 55, 31, 94, 29, 10, 65, 300]\n",
            "Length: 11\n",
            "Maximum value: 300\n",
            "Sum of all elements: 845\n"
          ]
        }
      ]
    },
    {
      "cell_type": "code",
      "source": [
        "# 5. String operations\n",
        "\n",
        "string = \"The day has been long\"\n",
        "print(\"\\n5) Original string:\", string)\n",
        "\n",
        "# (a) Delete the value at index=4 (i.e., remove 5th character)\n",
        "\n",
        "string = string[:4] + string[5:]\n",
        "print(\"After deleting index 4:\", string)\n",
        "\n",
        "# (b) Print the string 4 times in a single line with space between each repetition\n",
        "\n",
        "print(\"Repeated 4 times in one line:\", (string + \" \") * 4)\n",
        "\n",
        "# (c) Print the string 3 times in new lines each time\n",
        "\n",
        "print(\"Repeated 3 times in new lines:\\n\" + (string + \"\\n\") * 3)\n",
        "\n",
        "# (d) Modify the string at index=7 as 'A'\n",
        "string = string[:7] + 'A' + string[8:]\n",
        "\n",
        "print(\"After modifying index 7 to 'A':\", string)\n",
        "\n",
        "# (e) Print the string from index 4 to 15\n",
        "\n",
        "print(\"Substring (4 to 15):\", string[4:16])\n",
        "\n",
        "# (f) Print the final string with its length\n",
        "\n",
        "print(\"Final string:\", string)\n",
        "print(\"Length of final string:\", len(string))"
      ],
      "metadata": {
        "colab": {
          "base_uri": "https://localhost:8080/"
        },
        "id": "U_LC4cakajlm",
        "outputId": "641e9861-bcc7-4086-d064-230338959736"
      },
      "execution_count": 16,
      "outputs": [
        {
          "output_type": "stream",
          "name": "stdout",
          "text": [
            "\n",
            "5) Original string: The day has been long\n",
            "After deleting index 4: The ay has been long\n",
            "Repeated 4 times in one line: The ay has been long The ay has been long The ay has been long The ay has been long \n",
            "Repeated 3 times in new lines:\n",
            "The ay has been long\n",
            "The ay has been long\n",
            "The ay has been long\n",
            "\n",
            "After modifying index 7 to 'A': The ay Aas been long\n",
            "Substring (4 to 15): ay Aas been \n",
            "Final string: The ay Aas been long\n",
            "Length of final string: 20\n"
          ]
        }
      ]
    }
  ]
}